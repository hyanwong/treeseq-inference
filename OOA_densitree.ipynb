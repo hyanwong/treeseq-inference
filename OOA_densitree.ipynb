{
 "cells": [
  {
   "cell_type": "code",
   "execution_count": 1,
   "metadata": {},
   "outputs": [
    {
     "name": "stderr",
     "output_type": "stream",
     "text": [
      "/usr/local/lib/python3.6/site-packages/h5py/__init__.py:36: FutureWarning: Conversion of the second argument of issubdtype from `float` to `np.floating` is deprecated. In future, it will be treated as `np.float64 == np.dtype(float).type`.\n",
      "  from ._conv import register_converters as _register_converters\n"
     ]
    }
   ],
   "source": [
    "%matplotlib inline\n",
    "import math\n",
    "\n",
    "import msprime\n",
    "import random\n",
    "import numpy as np\n",
    "import matplotlib.pyplot as plt\n",
    "import itertools\n",
    "import collections\n",
    "plt.rcParams['figure.figsize'] = [14, 5.5]\n",
    "from matplotlib.collections import LineCollection\n",
    "\n",
    "import pandas as pd\n",
    "import seaborn as sns\n",
    "from IPython.display import SVG\n",
    "import tqdm\n"
   ]
  },
  {
   "cell_type": "code",
   "execution_count": 2,
   "metadata": {},
   "outputs": [],
   "source": [
    "def out_of_africa(n_samples_per_pop = 10):\n",
    "    # First we set out the maximum likelihood values of the various parameters\n",
    "    # given in Table 1.\n",
    "    N_A = 7300\n",
    "    N_B = 2100\n",
    "    N_AF = 12300\n",
    "    N_EU0 = 1000\n",
    "    N_AS0 = 510\n",
    "    # Times are provided in years, so we convert into generations.\n",
    "    generation_time = 25\n",
    "    T_AF = 220e3 / generation_time\n",
    "    T_B = 140e3 / generation_time\n",
    "    T_EU_AS = 21.2e3 / generation_time\n",
    "    # We need to work out the starting (diploid) population sizes based on\n",
    "    # the growth rates provided for these two populations\n",
    "    r_EU = 0.004\n",
    "    r_AS = 0.0055\n",
    "    N_EU = N_EU0 / math.exp(-r_EU * T_EU_AS)\n",
    "    N_AS = N_AS0 / math.exp(-r_AS * T_EU_AS)\n",
    "    # Migration rates during the various epochs.\n",
    "    m_AF_B = 25e-5\n",
    "    m_AF_EU = 3e-5\n",
    "    m_AF_AS = 1.9e-5\n",
    "    m_EU_AS = 9.6e-5\n",
    "    # Population IDs correspond to their indexes in the population\n",
    "    # configuration array. Therefore, we have 0=YRI, 1=CEU and 2=CHB\n",
    "    # initially.\n",
    "    return dict(AFR=0, EUR=1, AS=2), dict(\n",
    "        population_configurations = [\n",
    "            msprime.PopulationConfiguration(\n",
    "                sample_size=n_samples_per_pop, initial_size=N_AF),\n",
    "            msprime.PopulationConfiguration(\n",
    "                sample_size=n_samples_per_pop, initial_size=N_EU, growth_rate=r_EU),\n",
    "            msprime.PopulationConfiguration(\n",
    "                sample_size=n_samples_per_pop, initial_size=N_AS, growth_rate=r_AS)\n",
    "        ],\n",
    "        migration_matrix = [\n",
    "            [      0, m_AF_EU, m_AF_AS],\n",
    "            [m_AF_EU,       0, m_EU_AS],\n",
    "            [m_AF_AS, m_EU_AS,       0],\n",
    "        ],\n",
    "        demographic_events = [\n",
    "            # CEU and CHB merge into B with rate changes at T_EU_AS\n",
    "            msprime.MassMigration(\n",
    "                time=T_EU_AS, source=2, destination=1, proportion=1.0),\n",
    "            msprime.MigrationRateChange(time=T_EU_AS, rate=0),\n",
    "            msprime.MigrationRateChange(\n",
    "                time=T_EU_AS, rate=m_AF_B, matrix_index=(0, 1)),\n",
    "            msprime.MigrationRateChange(\n",
    "                time=T_EU_AS, rate=m_AF_B, matrix_index=(1, 0)),\n",
    "            msprime.PopulationParametersChange(\n",
    "                time=T_EU_AS, initial_size=N_B, growth_rate=0, population_id=1),\n",
    "            # Population B merges into YRI at T_B\n",
    "            msprime.MassMigration(\n",
    "                time=T_B, source=1, destination=0, proportion=1.0),\n",
    "            # Size changes to N_A at T_AF\n",
    "            msprime.PopulationParametersChange(\n",
    "                time=T_AF, initial_size=N_A, population_id=0)\n",
    "        ]\n",
    "    )\n"
   ]
  },
  {
   "cell_type": "code",
   "execution_count": 3,
   "metadata": {},
   "outputs": [],
   "source": [
    "\n",
    "pop_names, ooa_params = out_of_africa(n_samples_per_pop=40)\n",
    "ts=msprime.simulate(**ooa_params)\n",
    "\n",
    "samples = ts.samples()\n",
    "tables = ts.tables\n",
    "\n",
    "superpop_name_map = pop_names\n",
    "superpop_map = np.arange(ts.num_populations, dtype=int)\n",
    "population = tables.nodes.population[samples]\n",
    "sample_superpop = superpop_map[population]\n",
    "\n",
    "\n"
   ]
  },
  {
   "cell_type": "code",
   "execution_count": 4,
   "metadata": {},
   "outputs": [
    {
     "data": {
      "text/plain": [
       "(array([0, 1, 2], dtype=int32), 120)"
      ]
     },
     "execution_count": 4,
     "metadata": {},
     "output_type": "execute_result"
    }
   ],
   "source": [
    "np.unique(tables.nodes.population), ts.num_samples"
   ]
  },
  {
   "cell_type": "code",
   "execution_count": 5,
   "metadata": {},
   "outputs": [
    {
     "name": "stdout",
     "output_type": "stream",
     "text": [
      "Selected 1 samples at random from each of:\n",
      "['AFR (0): samples=', 8]\n",
      "['EUR (1): samples=', 192]\n",
      "['AS (2): samples=', 102]\n"
     ]
    }
   ],
   "source": [
    "selected_populations = [0, 1, 2]\n",
    "n_per_pop = 1\n",
    "focal_samples = {}\n",
    "pop_descr = {v: [k] for k,v in pop_names.items()}\n",
    "np.random.seed(123)\n",
    "for p in selected_populations:\n",
    "    focal_samples[p] = np.random.choice(np.argwhere(tables.nodes.population == p)[:,0], n_per_pop, replace=False)\n",
    "print(\"Selected {} samples at random from each of:\".format(n_per_pop))\n",
    "for p in selected_populations:\n",
    "    print([\"{} ({}): samples=\".format(k, v) for k,v in pop_names.items() if v==p] + list(focal_samples[p]), sep=\"\\t\")\n",
    "\n"
   ]
  },
  {
   "cell_type": "code",
   "execution_count": 6,
   "metadata": {},
   "outputs": [
    {
     "data": {
      "text/plain": [
       "{0: ['AFR'], 1: ['EUR'], 2: ['AS']}"
      ]
     },
     "execution_count": 6,
     "metadata": {},
     "output_type": "execute_result"
    }
   ],
   "source": [
    "pop_descr"
   ]
  },
  {
   "cell_type": "code",
   "execution_count": 7,
   "metadata": {},
   "outputs": [
    {
     "data": {
      "application/vnd.jupyter.widget-view+json": {
       "model_id": "1ab28ca8a61c48fd9c5d1886de84c638",
       "version_major": 2,
       "version_minor": 0
      },
      "text/plain": [
       "HBox(children=(IntProgress(value=0, max=1), HTML(value='')))"
      ]
     },
     "metadata": {},
     "output_type": "display_data"
    },
    {
     "data": {
      "image/png": "[encoded data removed]",
      "text/plain": [
       "<Figure size 432x288 with 1 Axes>"
      ]
     },
     "metadata": {},
     "output_type": "display_data"
    },
    {
     "data": {
      "application/vnd.jupyter.widget-view+json": {
       "model_id": "07e31e1066f04e3fa6c91fc5985344f2",
       "version_major": 2,
       "version_minor": 0
      },
      "text/plain": [
       "HBox(children=(IntProgress(value=0, max=1), HTML(value='')))"
      ]
     },
     "metadata": {},
     "output_type": "display_data"
    },
    {
     "name": "stdout",
     "output_type": "stream",
     "text": [
      "\n"
     ]
    },
    {
     "data": {
      "image/png": "[encoded data removed]",
      "text/plain": [
       "<Figure size 432x288 with 1 Axes>"
      ]
     },
     "metadata": {},
     "output_type": "display_data"
    },
    {
     "data": {
      "application/vnd.jupyter.widget-view+json": {
       "model_id": "9189fc09e0944b45bd58f8ec39e0d032",
       "version_major": 2,
       "version_minor": 0
      },
      "text/plain": [
       "HBox(children=(IntProgress(value=0, max=1), HTML(value='')))"
      ]
     },
     "metadata": {},
     "output_type": "display_data"
    },
    {
     "name": "stdout",
     "output_type": "stream",
     "text": [
      "\n"
     ]
    },
    {
     "data": {
      "image/png": "[encoded data removed]",
      "text/plain": [
       "<Figure size 432x288 with 1 Axes>"
      ]
     },
     "metadata": {},
     "output_type": "display_data"
    }
   ],
   "source": [
    "for pop in selected_populations:\n",
    "    for focal_sample in focal_samples[pop]:\n",
    "        focal_superpop = superpop_map[tables.nodes.population[focal_sample]]\n",
    "        tree_iters = []\n",
    "        for j in range(len(superpop_name_map)):\n",
    "            tracked_samples = np.where(sample_superpop == j)[0].astype(np.int32)\n",
    "            if j == 0:\n",
    "                #we only need to count the samples under a node in one of the tree sets\n",
    "                tree_iters.append(ts.trees(tracked_samples=tracked_samples, sample_counts=True))\n",
    "            else:\n",
    "                tree_iters.append(ts.trees(tracked_samples=tracked_samples))\n",
    "\n",
    "        cousin_freq = np.zeros((ts.num_trees, 5), dtype=np.float) - 1\n",
    "        n_closest_relatives = np.zeros(ts.num_trees, dtype=np.int) - 1\n",
    "        tree_rgt_pos = np.zeros(ts.num_trees, dtype=np.float) - 1\n",
    "        progress = tqdm.tqdm_notebook(total=ts.num_trees)\n",
    "        for i, values in enumerate(zip(ts.edge_diffs(), *tree_iters)):\n",
    "            (left, right), edges_out, edges_in = values[0]\n",
    "            trees = values[1:]\n",
    "            tree = trees[0]\n",
    "            tree_rgt_pos[i] = right\n",
    "            progress.update()\n",
    "            #immediate parent of target sample\n",
    "            focal_parent = tree.parent(focal_sample)\n",
    "            n_closest_relatives[i] = n_c_r = tree.num_samples(focal_parent) - 1\n",
    "            #sum up the total numbers of closest relatives, and the number that are african, etc\n",
    "            for superpop in [superpop_name_map[\"AFR\"]]: #range(5):\n",
    "                flagged_relatives = trees[superpop].num_tracked_samples(focal_parent) - (superpop==focal_superpop)\n",
    "                cousin_freq[i, superpop] = flagged_relatives/n_c_r\n",
    "        df = pd.DataFrame({'AFR_freq':cousin_freq[:,superpop_name_map[\"AFR\"]], 'n':n_closest_relatives})\n",
    "        m = df.groupby('n')['AFR_freq'].mean()\n",
    "        plt.plot(m.index, m, c=\"green\")\n",
    "        plt.scatter(n_per_pop, cousin_freq[:,superpop_name_map[\"AFR\"]], s=3, alpha=0.1)\n",
    "        ax = plt.gca()\n",
    "        ax.set_xscale('log')\n",
    "        ax.set_ylim(0,1)\n",
    "        ax.set_title(\",\".join([str(x) for x in pop_descr[pop] + [focal_sample]]))\n",
    "        plt.show()"
   ]
  },
  {
   "cell_type": "code",
   "execution_count": null,
   "metadata": {},
   "outputs": [],
   "source": []
  },
  {
   "cell_type": "code",
   "execution_count": null,
   "metadata": {},
   "outputs": [],
   "source": []
  }
 ],
 "metadata": {
  "kernelspec": {
   "display_name": "Python 3",
   "language": "python",
   "name": "python3"
  },
  "language_info": {
   "codemirror_mode": {
    "name": "ipython",
    "version": 3
   },
   "file_extension": ".py",
   "mimetype": "text/x-python",
   "name": "python",
   "nbconvert_exporter": "python",
   "pygments_lexer": "ipython3",
   "version": "3.6.5"
  }
 },
 "nbformat": 4,
 "nbformat_minor": 2
}
